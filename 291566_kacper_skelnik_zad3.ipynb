{
 "cells": [
  {
   "cell_type": "code",
   "execution_count": 1,
   "metadata": {},
   "outputs": [],
   "source": [
    "def kwadratowa(m): return all (len (row) == len (m) for row in m)\n",
    "\n",
    "def LU(macierz):\n",
    "    try:\n",
    "        if kwadratowa(macierz) == False:raise\n",
    "    except:\n",
    "        raise ValueError(\"Macierz nie jest kwadratowa\")\n",
    "    \n",
    "    n = len(macierz)\n",
    "    U = [[0]*n for x in range(n)]\n",
    "    L = [[0]*n for x in range(n)]\n",
    "    for i in range(n):\n",
    "        for k in range(i, n):\n",
    "            suma = sum([L[i][j] * U[j][k] for j in range(i)])\n",
    "            U[i][k] = macierz[i][k] - suma\n",
    "        for k in range(i, n):\n",
    "            if i == k:\n",
    "                L[i][i] = 1\n",
    "                continue\n",
    "            suma = sum([L[k][j] * U[j][i] for j in range(i)])\n",
    "            L[k][i] = (macierz[k][i] - suma) / U[i][i]\n",
    "    return U, L"
   ]
  },
  {
   "cell_type": "code",
   "execution_count": 2,
   "metadata": {},
   "outputs": [],
   "source": [
    "import scipy as sp\n",
    "import scipy.linalg as li\n",
    "import numpy as np\n",
    "\n",
    "macierz = np.array([[9, 8, -2, 2, -2], [7, -3, -2, 7, 2], [2, -2, 2, -7, 6], [4, 8, -3, 3, -1], [2, 2, -1, 1, 4]])"
   ]
  },
  {
   "cell_type": "code",
   "execution_count": 3,
   "metadata": {},
   "outputs": [
    {
     "name": "stdout",
     "output_type": "stream",
     "text": [
      "macierz wejściowa: \n",
      "[[ 9  8 -2  2 -2]\n",
      " [ 7 -3 -2  7  2]\n",
      " [ 2 -2  2 -7  6]\n",
      " [ 4  8 -3  3 -1]\n",
      " [ 2  2 -1  1  4]] \n",
      "\n",
      "przekształcone przez funkcję LU: \n",
      "macierz górna: \n",
      "[[ 9.    8.   -2.    2.   -2.  ]\n",
      " [ 0.   -9.22 -0.44  5.44  3.56]\n",
      " [ 0.    0.    2.63 -9.67  4.99]\n",
      " [ 0.    0.    0.   -3.83  6.02]\n",
      " [ 0.    0.    0.    0.    3.41]] \n",
      "\n",
      "macierz dolna: \n",
      "[[ 1.    0.    0.    0.    0.  ]\n",
      " [ 0.78  1.    0.    0.    0.  ]\n",
      " [ 0.22  0.41  1.    0.    0.  ]\n",
      " [ 0.44 -0.48 -0.89  1.    0.  ]\n",
      " [ 0.22 -0.02 -0.22  0.37  1.  ]] \n",
      "\n",
      "przekształcone przez funkcję wbudowaną scipy.linalg: \n",
      "macierz górna: \n",
      "[[ 9.    8.   -2.    2.   -2.  ]\n",
      " [ 0.   -9.22 -0.44  5.44  3.56]\n",
      " [ 0.    0.    2.63 -9.67  4.99]\n",
      " [ 0.    0.    0.   -3.83  6.02]\n",
      " [ 0.    0.    0.    0.    3.41]] \n",
      "\n",
      "macierz dolna: \n",
      "[[ 1.    0.    0.    0.    0.  ]\n",
      " [ 0.78  1.    0.    0.    0.  ]\n",
      " [ 0.22  0.41  1.    0.    0.  ]\n",
      " [ 0.44 -0.48 -0.89  1.    0.  ]\n",
      " [ 0.22 -0.02 -0.22  0.37  1.  ]] \n",
      "\n"
     ]
    }
   ],
   "source": [
    "U, L = LU(macierz)\n",
    "\n",
    "print('macierz wejściowa: ')\n",
    "print(np.array2string(macierz, precision=2), '\\n')\n",
    "print('przekształcone przez funkcję LU: ')\n",
    "print('macierz górna: ')\n",
    "print(np.array2string(np.array(U), precision=2), '\\n')\n",
    "print('macierz dolna: ')\n",
    "print(np.array2string(np.array(L), precision=2), '\\n')\n",
    "print('przekształcone przez funkcję wbudowaną scipy.linalg: ')\n",
    "print('macierz górna: ')\n",
    "print(np.array2string(li.lu(macierz)[2], precision=2), '\\n')\n",
    "print('macierz dolna: ')\n",
    "print(np.array2string(li.lu(macierz)[1], precision=2), '\\n')"
   ]
  },
  {
   "cell_type": "markdown",
   "metadata": {},
   "source": [
    "# Dla miepoprawnej macierzy"
   ]
  },
  {
   "cell_type": "code",
   "execution_count": 4,
   "metadata": {},
   "outputs": [
    {
     "data": {
      "text/plain": [
       "array([list([9, 8, -2, 2, -2]), list([7, -3, -2, 7, 2]),\n",
       "       list([2, -2, 2, -7, 6]), list([4, 8, -3, 3, -1]),\n",
       "       list([2, 2, -1, 1, 4, 4])], dtype=object)"
      ]
     },
     "execution_count": 4,
     "metadata": {},
     "output_type": "execute_result"
    }
   ],
   "source": [
    "macierz2 = np.array([[9, 8, -2, 2, -2], [7, -3, -2, 7, 2], [2, -2, 2, -7, 6], [4, 8, -3, 3, -1], [2, 2, -1, 1, 4, 4]])\n",
    "macierz2"
   ]
  },
  {
   "cell_type": "code",
   "execution_count": 5,
   "metadata": {},
   "outputs": [
    {
     "ename": "ValueError",
     "evalue": "Macierz nie jest kwadratowa",
     "output_type": "error",
     "traceback": [
      "\u001b[1;31m---------------------------------------------------------------------------\u001b[0m",
      "\u001b[1;31mRuntimeError\u001b[0m                              Traceback (most recent call last)",
      "\u001b[1;32m<ipython-input-1-4d5777bd7cdc>\u001b[0m in \u001b[0;36mLU\u001b[1;34m(macierz)\u001b[0m\n\u001b[0;32m      4\u001b[0m     \u001b[1;32mtry\u001b[0m\u001b[1;33m:\u001b[0m\u001b[1;33m\u001b[0m\u001b[1;33m\u001b[0m\u001b[0m\n\u001b[1;32m----> 5\u001b[1;33m         \u001b[1;32mif\u001b[0m \u001b[0mkwadratowa\u001b[0m\u001b[1;33m(\u001b[0m\u001b[0mmacierz\u001b[0m\u001b[1;33m)\u001b[0m \u001b[1;33m==\u001b[0m \u001b[1;32mFalse\u001b[0m\u001b[1;33m:\u001b[0m\u001b[1;32mraise\u001b[0m\u001b[1;33m\u001b[0m\u001b[1;33m\u001b[0m\u001b[0m\n\u001b[0m\u001b[0;32m      6\u001b[0m     \u001b[1;32mexcept\u001b[0m\u001b[1;33m:\u001b[0m\u001b[1;33m\u001b[0m\u001b[1;33m\u001b[0m\u001b[0m\n",
      "\u001b[1;31mRuntimeError\u001b[0m: No active exception to reraise",
      "\nDuring handling of the above exception, another exception occurred:\n",
      "\u001b[1;31mValueError\u001b[0m                                Traceback (most recent call last)",
      "\u001b[1;32m<ipython-input-5-bf28265c5d49>\u001b[0m in \u001b[0;36m<module>\u001b[1;34m\u001b[0m\n\u001b[1;32m----> 1\u001b[1;33m \u001b[0mU2\u001b[0m\u001b[1;33m,\u001b[0m \u001b[0mL2\u001b[0m \u001b[1;33m=\u001b[0m \u001b[0mLU\u001b[0m\u001b[1;33m(\u001b[0m\u001b[0mmacierz2\u001b[0m\u001b[1;33m)\u001b[0m\u001b[1;33m\u001b[0m\u001b[1;33m\u001b[0m\u001b[0m\n\u001b[0m",
      "\u001b[1;32m<ipython-input-1-4d5777bd7cdc>\u001b[0m in \u001b[0;36mLU\u001b[1;34m(macierz)\u001b[0m\n\u001b[0;32m      5\u001b[0m         \u001b[1;32mif\u001b[0m \u001b[0mkwadratowa\u001b[0m\u001b[1;33m(\u001b[0m\u001b[0mmacierz\u001b[0m\u001b[1;33m)\u001b[0m \u001b[1;33m==\u001b[0m \u001b[1;32mFalse\u001b[0m\u001b[1;33m:\u001b[0m\u001b[1;32mraise\u001b[0m\u001b[1;33m\u001b[0m\u001b[1;33m\u001b[0m\u001b[0m\n\u001b[0;32m      6\u001b[0m     \u001b[1;32mexcept\u001b[0m\u001b[1;33m:\u001b[0m\u001b[1;33m\u001b[0m\u001b[1;33m\u001b[0m\u001b[0m\n\u001b[1;32m----> 7\u001b[1;33m         \u001b[1;32mraise\u001b[0m \u001b[0mValueError\u001b[0m\u001b[1;33m(\u001b[0m\u001b[1;34m\"Macierz nie jest kwadratowa\"\u001b[0m\u001b[1;33m)\u001b[0m\u001b[1;33m\u001b[0m\u001b[1;33m\u001b[0m\u001b[0m\n\u001b[0m\u001b[0;32m      8\u001b[0m \u001b[1;33m\u001b[0m\u001b[0m\n\u001b[0;32m      9\u001b[0m     \u001b[0mn\u001b[0m \u001b[1;33m=\u001b[0m \u001b[0mlen\u001b[0m\u001b[1;33m(\u001b[0m\u001b[0mmacierz\u001b[0m\u001b[1;33m)\u001b[0m\u001b[1;33m\u001b[0m\u001b[1;33m\u001b[0m\u001b[0m\n",
      "\u001b[1;31mValueError\u001b[0m: Macierz nie jest kwadratowa"
     ]
    }
   ],
   "source": [
    "U2, L2 = LU(macierz2)"
   ]
  },
  {
   "cell_type": "code",
   "execution_count": null,
   "metadata": {},
   "outputs": [],
   "source": []
  }
 ],
 "metadata": {
  "kernelspec": {
   "display_name": "Python 3",
   "language": "python",
   "name": "python3"
  },
  "language_info": {
   "codemirror_mode": {
    "name": "ipython",
    "version": 3
   },
   "file_extension": ".py",
   "mimetype": "text/x-python",
   "name": "python",
   "nbconvert_exporter": "python",
   "pygments_lexer": "ipython3",
   "version": "3.7.4"
  }
 },
 "nbformat": 4,
 "nbformat_minor": 2
}
