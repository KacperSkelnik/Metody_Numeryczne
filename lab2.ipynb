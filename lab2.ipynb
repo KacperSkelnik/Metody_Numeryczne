{
 "cells": [
  {
   "cell_type": "code",
   "execution_count": 1,
   "metadata": {},
   "outputs": [],
   "source": [
    "# Kacper Skelnik, 291566"
   ]
  },
  {
   "cell_type": "code",
   "execution_count": 2,
   "metadata": {},
   "outputs": [],
   "source": [
    "def funkcja(x):\n",
    "    return 3*x**3 - 4*x**2 - 1"
   ]
  },
  {
   "cell_type": "code",
   "execution_count": 3,
   "metadata": {},
   "outputs": [],
   "source": [
    "def bisekcja(a, b, epsilon, tab):\n",
    "    \n",
    "    if a>b:\n",
    "        a,b = b,a\n",
    "\n",
    "    if funkcja(a)*funkcja(b)<0:\n",
    "        pierwiastek = a\n",
    "        while (b-a) >= abs(epsilon):\n",
    "            pierwiastek = (b + a) / 2.0 \n",
    "            tab.append(pierwiastek)\n",
    "            print(pierwiastek)\n",
    "            if funkcja(a)*funkcja(pierwiastek)<0:\n",
    "                b = pierwiastek\n",
    "            elif funkcja(pierwiastek)*funkcja(b)<0:\n",
    "                a = pierwiastek\n",
    "            else:\n",
    "                break\n",
    "\n",
    "    elif f(a) == 0:\n",
    "        pierwiastek = a\n",
    "    elif f(b) == 0:\n",
    "        pierwiastek = b\n",
    "    else:\n",
    "        pierwiastek = \"Blad - podany przedzial nie spelnia zalozen\" \n",
    "       \n",
    "    return pierwiastek"
   ]
  },
  {
   "cell_type": "code",
   "execution_count": 4,
   "metadata": {},
   "outputs": [
    {
     "name": "stdout",
     "output_type": "stream",
     "text": [
      "0.0\n",
      "2.0\n",
      "1.0\n",
      "1.5\n",
      "1.25\n",
      "1.375\n",
      "1.4375\n",
      "1.46875\n",
      "1.484375\n",
      "1.4921875\n",
      "1.48828125\n",
      "1.486328125\n",
      "1.4853515625\n",
      "1.48486328125\n",
      "1.484619140625\n",
      "1.4844970703125\n",
      "1.48455810546875\n",
      "rozwiazanie =  1.48455810546875\n"
     ]
    }
   ],
   "source": [
    "tabx = []\n",
    "print(\"rozwiazanie = \",bisekcja(-4, 4, 0.0001, tabx))"
   ]
  },
  {
   "cell_type": "code",
   "execution_count": 6,
   "metadata": {},
   "outputs": [
    {
     "data": {
      "image/png": "[encoded data removed]",
      "text/plain": [
       "<Figure size 432x288 with 1 Axes>"
      ]
     },
     "metadata": {
      "needs_background": "light"
     },
     "output_type": "display_data"
    }
   ],
   "source": [
    "import matplotlib.pyplot as plt\n",
    "import numpy as np\n",
    "\n",
    "taby = []\n",
    "for i in range(len(tabx)):\n",
    "    taby.append(funkcja(tabx[i]))\n",
    "\n",
    "x = np.linspace(-4, 4, 10000)\n",
    "plt.plot(x, funkcja(x), label='funkcja')\n",
    "plt.plot(tabx, taby, 'o')\n",
    "plt.axis([-0.2, 2.2, -2.5, 7.5])\n",
    "plt.axhline(y=0, color='black')\n",
    "plt.axvline(x=0, color='black')\n",
    "plt.show()"
   ]
  },
  {
   "cell_type": "code",
   "execution_count": null,
   "metadata": {},
   "outputs": [],
   "source": []
  }
 ],
 "metadata": {
  "kernelspec": {
   "display_name": "Python 3",
   "language": "python",
   "name": "python3"
  },
  "language_info": {
   "codemirror_mode": {
    "name": "ipython",
    "version": 3
   },
   "file_extension": ".py",
   "mimetype": "text/x-python",
   "name": "python",
   "nbconvert_exporter": "python",
   "pygments_lexer": "ipython3",
   "version": "3.7.4"
  }
 },
 "nbformat": 4,
 "nbformat_minor": 4
}
